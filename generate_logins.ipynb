{
 "cells": [
  {
   "cell_type": "code",
   "execution_count": 1,
   "id": "18402e93",
   "metadata": {},
   "outputs": [],
   "source": [
    "from math import ceil\n",
    "\n",
    "L = 'abcdefghijklmnopqrstuvwxyz'\n",
    "D = '0123456789'\n",
    "S = '.'\n",
    "\n",
    "def get_symbols(n):\n",
    "  if n > 0:\n",
    "    for i in L+D:\n",
    "      g = get_symbols(n-1)\n",
    "      for item in g:\n",
    "        yield [i] + item\n",
    "  else:\n",
    "    yield []\n",
    "\n",
    "def get_points_pos(n, m, shift=0):\n",
    "  if m > 0 and n > 1 and m <= ceil(n/2):\n",
    "    for i in range(1, n-2*m+1):\n",
    "      g = get_points_pos(n-1-i, m-1, shift+i+1)\n",
    "      for item in g:\n",
    "        yield (i+shift,) + item\n",
    "  else:\n",
    "    yield ()\n",
    "\n",
    "def get_logins_middle_part(n):\n",
    "  if n > 2:\n",
    "    for m in range(0, ceil(n/2)):\n",
    "      for points_pos in get_points_pos(n,m):\n",
    "        for symbols in get_symbols(n-m-2):\n",
    "          yield ''.join([\n",
    "            symbols.pop(0) if i not in points_pos else '.' \n",
    "            for i in range(1, n-1)\n",
    "          ])\n",
    "  else:\n",
    "    yield ''\n",
    "\n",
    "def get_logins(n):\n",
    "  for first_symbol in L:\n",
    "    if n > 1:\n",
    "      for last_symbol in L+D:\n",
    "        g = get_logins_middle_part(n)\n",
    "        for item in g:\n",
    "          yield first_symbol + item + last_symbol\n",
    "    else:\n",
    "      yield first_symbol"
   ]
  },
  {
   "cell_type": "code",
   "execution_count": 2,
   "id": "48d95535",
   "metadata": {},
   "outputs": [
    {
     "data": {
      "text/plain": [
       "1280448"
      ]
     },
     "execution_count": 2,
     "metadata": {},
     "output_type": "execute_result"
    }
   ],
   "source": [
    "len(list(get_logins(4)))"
   ]
  }
 ],
 "metadata": {
  "kernelspec": {
   "display_name": "ya_logins_venv",
   "language": "python",
   "name": "ya_logins_venv"
  },
  "language_info": {
   "codemirror_mode": {
    "name": "ipython",
    "version": 3
   },
   "file_extension": ".py",
   "mimetype": "text/x-python",
   "name": "python",
   "nbconvert_exporter": "python",
   "pygments_lexer": "ipython3",
   "version": "3.8.8"
  }
 },
 "nbformat": 4,
 "nbformat_minor": 5
}
